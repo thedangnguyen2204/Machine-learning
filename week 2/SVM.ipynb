{
 "cells": [
  {
   "cell_type": "markdown",
   "metadata": {},
   "source": [
    "# Học quy nạp\n",
    "Học hàm tổng quát hóa từ các mấu quan sát được được gọi là ** học quy nạp **.\n",
    "\n",
    "Từ một tập dữ liệu đã biết trước $ D = \\{(x_1,y_1), (x_2,y_2),...,(x_3,y_3)\\} $, \n",
    "ta cần tìm ra hàm ánh xạ $ f: X \\rightarrow Y $ sao cho:\n",
    "\\begin{equation*} f(x) = y, \\, \\forall x \\in D \\end{equation*}\n",
    "\n",
    "Trong các bài toán thực tế, ta rất ít khi tìm được hàm ánh xạ $f(x)$ cho ra dự đoán chính xác 100% so với dữ liệu, do vậy, bài toán học quy nạp trở thành bài toán tìm hàm ánh xạ tốt nhất trong tập ánh xạ có thể có.\n",
    "\n",
    "Tập dữ liệu $D$ biết trước được gọi là tập huấn luyện hay tập đào tạo.\n",
    "\n",
    "Trong bài học này, chúng ta sẽ tiến hành minh họa các khái niệm cơ bản của học quy nạp dựa trên bài toán thực tế: Phân lớp hoa cẩm chướng.\n",
    "\n",
    "### Dữ liệu\n",
    "Trong bài toán học máy, dữ liệu huấn luyện là một phần quan trọng không thể thiếu. Từ dữ liệu, chúng ta sẽ học được hàm ánh xạ để phân loại dữ liệu.\n",
    "\n",
    "Với bài toán phân lớp hoa cẩm chướng, ta sử dụng dữ liệu $iris$ trong package $scikit-learn$."
   ]
  },
  {
   "cell_type": "code",
   "execution_count": 3,
   "metadata": {},
   "outputs": [
    {
     "name": "stdout",
     "output_type": "stream",
     "text": [
      "Iris Plants Database\n",
      "====================\n",
      "\n",
      "Notes\n",
      "-----\n",
      "Data Set Characteristics:\n",
      "    :Number of Instances: 150 (50 in each of three classes)\n",
      "    :Number of Attributes: 4 numeric, predictive attributes and the class\n",
      "    :Attribute Information:\n",
      "        - sepal length in cm\n",
      "        - sepal width in cm\n",
      "        - petal length in cm\n",
      "        - petal width in cm\n",
      "        - class:\n",
      "                - Iris-Setosa\n",
      "                - Iris-Versicolour\n",
      "                - Iris-Virginica\n",
      "    :Summary Statistics:\n",
      "\n",
      "    ============== ==== ==== ======= ===== ====================\n",
      "                    Min  Max   Mean    SD   Class Correlation\n",
      "    ============== ==== ==== ======= ===== ====================\n",
      "    sepal length:   4.3  7.9   5.84   0.83    0.7826\n",
      "    sepal width:    2.0  4.4   3.05   0.43   -0.4194\n",
      "    petal length:   1.0  6.9   3.76   1.76    0.9490  (high!)\n",
      "    petal width:    0.1  2.5   1.20  0.76     0.9565  (high!)\n",
      "    ============== ==== ==== ======= ===== ====================\n",
      "\n",
      "    :Missing Attribute Values: None\n",
      "    :Class Distribution: 33.3% for each of 3 classes.\n",
      "    :Creator: R.A. Fisher\n",
      "    :Donor: Michael Marshall (MARSHALL%PLU@io.arc.nasa.gov)\n",
      "    :Date: July, 1988\n",
      "\n",
      "This is a copy of UCI ML iris datasets.\n",
      "http://archive.ics.uci.edu/ml/datasets/Iris\n",
      "\n",
      "The famous Iris database, first used by Sir R.A Fisher\n",
      "\n",
      "This is perhaps the best known database to be found in the\n",
      "pattern recognition literature.  Fisher's paper is a classic in the field and\n",
      "is referenced frequently to this day.  (See Duda & Hart, for example.)  The\n",
      "data set contains 3 classes of 50 instances each, where each class refers to a\n",
      "type of iris plant.  One class is linearly separable from the other 2; the\n",
      "latter are NOT linearly separable from each other.\n",
      "\n",
      "References\n",
      "----------\n",
      "   - Fisher,R.A. \"The use of multiple measurements in taxonomic problems\"\n",
      "     Annual Eugenics, 7, Part II, 179-188 (1936); also in \"Contributions to\n",
      "     Mathematical Statistics\" (John Wiley, NY, 1950).\n",
      "   - Duda,R.O., & Hart,P.E. (1973) Pattern Classification and Scene Analysis.\n",
      "     (Q327.D83) John Wiley & Sons.  ISBN 0-471-22361-1.  See page 218.\n",
      "   - Dasarathy, B.V. (1980) \"Nosing Around the Neighborhood: A New System\n",
      "     Structure and Classification Rule for Recognition in Partially Exposed\n",
      "     Environments\".  IEEE Transactions on Pattern Analysis and Machine\n",
      "     Intelligence, Vol. PAMI-2, No. 1, 67-71.\n",
      "   - Gates, G.W. (1972) \"The Reduced Nearest Neighbor Rule\".  IEEE Transactions\n",
      "     on Information Theory, May 1972, 431-433.\n",
      "   - See also: 1988 MLC Proceedings, 54-64.  Cheeseman et al\"s AUTOCLASS II\n",
      "     conceptual clustering system finds 3 classes in the data.\n",
      "   - Many, many more ...\n",
      "\n"
     ]
    }
   ],
   "source": [
    "import numpy as np\n",
    "from sklearn import datasets\n",
    "# TODO: import dữ liệu iris từ datasets của scikit-learn\n",
    "iris = datasets.load_iris()\n",
    "\n",
    "# Hiển thị mô ta dữ liệu\n",
    "print(iris.DESCR)"
   ]
  },
  {
   "cell_type": "markdown",
   "metadata": {},
   "source": [
    "Trong tập dữ liệu Hoa cẩm chướng gồm có 150 mẫu. Mỗi mẫu biểu diễn một đối tượng thông qua các đặc trưng bao gồm:\n",
    "- độ dài lá (sepal length), \n",
    "- độ rộng lá (sepal width),\n",
    "- độ dài cánh hoa (petal length),\n",
    "- và độ rộng cánh hoa (petal width).\n",
    "\n",
    "Tập dữ liệu trên thuộc về 3 lớp lần lượt là *Setosa*, *Versicolour* và *Virginica*, mỗi lớp bao gồm 50 mẫu.\n",
    "\n",
    "**Bài tập:** Tách tập dữ liệu $iris$ thành tập dữ liệu huấn luyện và dữ liệu kiểm tra theo tỉ lệ 80:20.\n",
    "Gợi ý: Dùng hàm `train_test_split` trong `sklearn.model_selection` để chia dữ liệu."
   ]
  },
  {
   "cell_type": "code",
   "execution_count": 4,
   "metadata": {},
   "outputs": [
    {
     "name": "stdout",
     "output_type": "stream",
     "text": [
      "Train data shape: (120, 4)\n",
      "Train labels shape: (120,)\n",
      "Test data shape: (30, 4)\n",
      "Test labels shape: (30,)\n"
     ]
    }
   ],
   "source": [
    "from sklearn.model_selection import train_test_split\n",
    "# TODO: Từ tập dữ liệu ban đầu, tách lấy ma trận biểu diễn các đặc trưng và nhãn.\n",
    "data = iris.data\n",
    "target = iris.target\n",
    "\n",
    "# TODO: Chia dữ liệu và nhãn thành 2 tập dữ liệu huấn luyện và dữ liệu kiểm tra theo tỉ lệ 80:20\n",
    "X_train, X_test, y_train, y_test = train_test_split(data, target, test_size = 0.2, random_state = 0)\n",
    "\n",
    "# Để kiểm tra đơn giản, chúng ta in ra kích thước của các tập dữ liệu\n",
    "print('Train data shape: {}'.format(X_train.shape))\n",
    "print('Train labels shape: {}'.format(y_train.shape))\n",
    "print('Test data shape: {}'.format(X_test.shape))\n",
    "print('Test labels shape: {}'.format(y_test.shape))\n",
    "\n",
    "# Kết quả của bạn nên đạt được là:\n",
    "# Train data shape: (120, 4)\n",
    "# Train labels shape: (120,)\n",
    "# Test data shape: (30, 4)\n",
    "# Test labels shape: (30,)"
   ]
  },
  {
   "cell_type": "code",
   "execution_count": 9,
   "metadata": {},
   "outputs": [
    {
     "data": {
      "image/png": "[encoded data removed]",
      "text/plain": [
       "<matplotlib.figure.Figure at 0xece5f90>"
      ]
     },
     "metadata": {},
     "output_type": "display_data"
    }
   ],
   "source": [
    "from matplotlib import pyplot as plt\n",
    "# Để trực quan, chúng ta biểu diễn một số ví dụ trong tập dữ liệu.\n",
    "# Chúng ta hiển thị dữ liệu huấn luyện thuộc về mỗi lớp.\n",
    "\n",
    "plt.scatter(X_train[:,0], X_train[:,1], c=y_train, cmap=plt.cm.Set1, edgecolor='k')\n",
    "plt.xlabel('Sepal length')\n",
    "plt.ylabel('Sepal width')\n",
    "\n",
    "plt.xticks(())\n",
    "plt.yticks(())\n",
    "plt.show()"
   ]
  },
  {
   "cell_type": "markdown",
   "metadata": {},
   "source": [
    "## Mô hình\n",
    "Với dữ liệu hoa cẩm chướng, chúng ta sẽ sử dụng mô hình Máy véc-tơ hỗ trợ (SVM) để phân loại dữ liệu. Trong `Scikit-learn`, cần import mô hình `SVC` (Support Vector Classification) cho bài toán này.\n",
    "\n",
    "Trong khi làm việc với bất cứ mô hình nào, có hai phương thức mà chúng ta cần quan tâm:\n",
    "- Thứ nhất là phương thức `fit`: huấn luyện mô hình với dữ liệu huấn luyện,\n",
    "- Thứ hai là phương thức `predict`: sử dụng mô hình đã huấn luyện để phân loại dữ liệu chưa biết.\n",
    "\n",
    "Các mô hình học máy trong `Scikit-learn` đều có 2 phương thức này (tuy có khác nhau về một số tham số tối ưu mô hình).\n",
    "\n",
    "** Bài tập:** Sử dụng dữ liệu và hai phương thức trên để huấn luyện mô hình và sử dụng mô hình đó để phân loại dữ liệu kiểm tra.\n"
   ]
  },
  {
   "cell_type": "code",
   "execution_count": 20,
   "metadata": {},
   "outputs": [
    {
     "name": "stdout",
     "output_type": "stream",
     "text": [
      "[2 1 0 2 0 2 0 1 1 1 2 1 1 1 1 0 1 1 0 0 2 1 0 0 2 0 0 1 1 0]\n",
      "[2 1 0 2 0 2 0 1 1 1 2 1 1 1 1 0 1 1 0 0 2 1 0 0 2 0 0 1 1 0]\n"
     ]
    }
   ],
   "source": [
    "# import gói SVM\n",
    "from sklearn import svm\n",
    "\n",
    "# khởi tạo mô hình phân lớp\n",
    "clf = svm.SVC()\n",
    "\n",
    "# TODO: Sử dụng phương thức 'fit' để huấn luyện mô hình với dữ liệu huấn luyện và nhãn huấn luyện\n",
    "clf.fit(X_train, y_train)\n",
    "# fit (X,Y) với X là tập các đối tượng, Y là tập nhãn tương ứng của đối tượng.\n",
    "\n",
    "# TODO: Sử dụng phương thức 'predict' để phân loại dữ liệu kiểm tra\n",
    "# predict (X) với X là tập các đối tượng cần dự đoán\n",
    "# Phương thức trả về tập nhãn dự đoán tương ứng với các đối tượng.\n",
    "y_pred = clf.predict(X_test)\n",
    "print y_pred\n",
    "print y_test"
   ]
  },
  {
   "cell_type": "markdown",
   "metadata": {
    "collapsed": true
   },
   "source": [
    "### Visualize \n",
    "\n",
    "Để trực quan, ta biểu diễn kết quả phân lớp của mô hình trong không gian 2D."
   ]
  },
  {
   "cell_type": "code",
   "execution_count": 13,
   "metadata": {},
   "outputs": [
    {
     "data": {
      "image/png": "[encoded data removed]",
      "text/plain": [
       "<matplotlib.figure.Figure at 0xc969df0>"
      ]
     },
     "metadata": {},
     "output_type": "display_data"
    }
   ],
   "source": [
    "def plot_contours(ax, model, xx, yy, **params):\n",
    "    \"\"\"Biểu diễn biên quyết định của bộ phân lớp SVC.\n",
    "\n",
    "    Tham số\n",
    "    ----------\n",
    "    ax: Đối tượng subplot của matplotlib\n",
    "    clf: Bộ phân lớp\n",
    "    xx: Tọa độ theo trục tung \n",
    "    yy: Tọa độ theo trục hoành\n",
    "    params: Thư viện tham số ứng với hàm contourf\n",
    "    \"\"\"\n",
    "    Z = model.predict(np.c_[xx.ravel(), yy.ravel()])\n",
    "    Z = Z.reshape(xx.shape)\n",
    "    out = ax.contourf(xx, yy, Z, **params)\n",
    "    return out\n",
    "\n",
    "def make_meshgrid(x, y, h=.02):\n",
    "    \"\"\"Tạo ra lưới các điểm để biểu diễn\n",
    "\n",
    "    Tham số\n",
    "    ----------\n",
    "    x: dữ liệu trên trục X\n",
    "    y: dữ liệu trên trục Y\n",
    "    h: kích cỡ một mắt lưới\n",
    "\n",
    "    Returns\n",
    "    -------\n",
    "    xx, yy : ndarray\n",
    "    \"\"\"\n",
    "    x_min, x_max = x.min() - 1, x.max() + 1\n",
    "    y_min, y_max = y.min() - 1, y.max() + 1\n",
    "    xx, yy = np.meshgrid(np.arange(x_min, x_max, h),\n",
    "                         np.arange(y_min, y_max, h))\n",
    "    return xx, yy\n",
    "\n",
    "# Cài đặt lưới 1x2 để biểu diễn dữ liệu\n",
    "fig, sub = plt.subplots(1,2)\n",
    "plt.subplots_adjust(wspace=0.5, hspace=0.5)\n",
    "\n",
    "titles = ['Training data', 'Test data']\n",
    "datas = [X_train[:,:2], X_test[:,:2]]\n",
    "labels = [y_train, y_test]\n",
    "\n",
    "# huấn luyện mô hình với dữ liệu huấn luyện có 2 đặc trưng\n",
    "model = svm.SVC()\n",
    "model.fit(datas[0], labels[0])\n",
    "\n",
    "for data, label, title, ax in zip(datas, labels, titles, sub.flatten()):\n",
    "    # biểu diễn mô hình trong không gian 2 chiều\n",
    "    X0, X1 = data[:, 0], data[:, 1]\n",
    "    xx, yy = make_meshgrid(X0, X1)\n",
    "    plot_contours(ax, model, xx, yy,\n",
    "                  cmap=plt.cm.coolwarm, alpha=0.8)\n",
    "    ax.scatter(X0, X1, c=label, cmap=plt.cm.coolwarm, s=20, edgecolors='k')\n",
    "    ax.set_xlim(xx.min(), xx.max())\n",
    "    ax.set_ylim(yy.min(), yy.max())\n",
    "    ax.set_xlabel('Sepal length')\n",
    "    ax.set_ylabel('Sepal width')\n",
    "    ax.set_xticks(())\n",
    "    ax.set_yticks(())\n",
    "    ax.set_title(title)\n",
    "\n",
    "plt.show()"
   ]
  },
  {
   "cell_type": "markdown",
   "metadata": {},
   "source": [
    "### Không gian giả thuyết\n",
    "Trong quá trình huấn luyện mô hình, bất cứ thay đổi nào về tham số truyền vào (ví dụ như số lượng dữ liệu huấn luyện) cũng ảnh hưởng đến mô hình cuối cùng thu được. Mỗi mô hình như thế đại diện cho mộ giả thuyết. Tập hợp các mô hình có thể xem xét là lời giải ứng với ánh xạ $f(x)$ trong bài toán ban đầu là một không gian giả thuyết.\n",
    "\n",
    "Từ không gian giả thuyết trên, ta phải tìm ra một lời giải hợp lý nhất (sát với hàm ánh xạ nhất). Cách đơn giản nhất là kiểm tra độ chính xác trên dữ liệu huấn luyện (training accuracy) và trên tập dữ liệu kiểm tra (validation accuracy).\n",
    "\\begin{align}Training\\, Accuracy = \\frac{No.true\\_predicted\\_labels}{No.training\\_data}\\end{align}\n",
    "\n",
    "\\begin{align}Validaton\\, Accuracy = \\frac{No.true\\_predicted\\_labels}{No.validation\\_data}\\end{align}\n",
    "\n",
    "**Bài tập:** Tính toán độ chính xác trên tập huấn luyện và tập kiểm tra của mô hình phân lớp SVM trên."
   ]
  },
  {
   "cell_type": "code",
   "execution_count": 23,
   "metadata": {},
   "outputs": [
    {
     "name": "stdout",
     "output_type": "stream",
     "text": [
      "[2 1 0 2 0 2 0 1 1 1 2 1 1 1 1 0 1 1 0 0 2 1 0 0 2 0 0 1 1 0]\n",
      "[2 1 0 2 0 2 0 1 1 1 2 1 1 1 1 0 1 1 0 0 2 1 0 0 2 0 0 1 1 0]\n",
      "Training accuracy: 0.975\n",
      "Validation accuracy: 1.0\n"
     ]
    }
   ],
   "source": [
    "# TODO: Tính độ chính xác trên tập huấn luyện và tập kiểm tra\n",
    "from sklearn import metrics\n",
    "train_acc = metrics.accuracy_score(y_train, clf.predict(X_train))\n",
    "# val_acc = metrics.accuracy_score(y_test, y_pred)\n",
    "val_acc = np.mean(y_test == y_pred)\n",
    "print y_test\n",
    "print y_pred\n",
    "print('Training accuracy: {}'.format(train_acc))\n",
    "print('Validation accuracy: {}'.format(val_acc))"
   ]
  },
  {
   "cell_type": "markdown",
   "metadata": {},
   "source": [
    "Để minh họa cho không gian gả thuyết có thể có của mô hình `SVM`, chúng ta thay đổi tham số `kernel` của mô hình.\n",
    "\n",
    "Kernel là một hàm nhân được sử dụng trong thuật toán, để làm tăng khả năng dự đoán chính xác dữ liệu. Kernel có thể nhận các giá trị: `'linear', 'poly', 'rbf', 'sigmoid'`. Giá trị mặc định của tham số `kernel` là `rbf`.\n",
    "\n",
    "Bây giờ, chúng ta sẽ thử thay đổi tham số `kernel` với các giá trị có thể có của nó và tìm ra giả thuyết (mô hình) xấp xỉ tốt nhất với dữ liệu kiểm tra.\n",
    "\n",
    "** Bài tập: ** Sử dụng vòng lặp để huấn luyện các mô hình với dữ liệu huấn luyện và tham số `kernel` khác nhau. Sau đó, chọn ra mô hình tốt nhất khi dự đoán dữ liệu kiểm tra."
   ]
  },
  {
   "cell_type": "code",
   "execution_count": 12,
   "metadata": {},
   "outputs": [
    {
     "name": "stdout",
     "output_type": "stream",
     "text": [
      "Best validation accuracy : 1.0 with kernel: linear\n"
     ]
    }
   ],
   "source": [
    "# khởi tạo mảng chứa các tham số kernel\n",
    "# best_svm, best_val_acc và best_kernel lần lượt là các biến lưu mô hình tốt nhất, \n",
    "# độ chính xác cao nhất trên tập kiểm tra và kernel tốt nhất\n",
    "kernels = ['linear', 'poly', 'rbf', 'sigmoid']\n",
    "best_svm = None\n",
    "best_val_acc = -1\n",
    "best_kernel = None\n",
    "\n",
    "# TODO: Huấn luyện các mô hình dựa trên dữ liệu huấn luyện và tham số kernel\n",
    "#       Tính toán độ chính xác trên tập huấn luyện và tập kiểm tra để tìm được mô hình tốt nhất\n",
    "pass\n",
    "for kernel_test in kernels:\n",
    "    clf = svm.SVC(kernel=kernel_test)\n",
    "    clf.fit(X_train, y_train)\n",
    "    if(metrics.accuracy_score(y_test, y_pred) > best_val_acc):\n",
    "        best_val_acc = metrics.accuracy_score(y_test, y_pred)\n",
    "        best_kernel = kernel_test\n",
    "\n",
    "# Hiển thị mô hình tốt nhất cùng với độ chính xác\n",
    "print(\"Best validation accuracy : {} with kernel: {}\".format(best_val_acc, best_kernel))    \n",
    "\n",
    "# Mô hình tốt nhất của bạn nên có độ chính xác xấp xỉ 86,67%"
   ]
  },
  {
   "cell_type": "code",
   "execution_count": null,
   "metadata": {
    "collapsed": true
   },
   "outputs": [],
   "source": []
  }
 ],
 "metadata": {
  "kernelspec": {
   "display_name": "Python 2",
   "language": "python",
   "name": "python2"
  },
  "language_info": {
   "codemirror_mode": {
    "name": "ipython",
    "version": 2
   },
   "file_extension": ".py",
   "mimetype": "text/x-python",
   "name": "python",
   "nbconvert_exporter": "python",
   "pygments_lexer": "ipython2",
   "version": "2.7.13"
  }
 },
 "nbformat": 4,
 "nbformat_minor": 2
}
