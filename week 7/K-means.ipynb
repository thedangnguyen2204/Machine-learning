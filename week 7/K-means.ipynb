{
 "cells": [
  {
   "cell_type": "markdown",
   "metadata": {},
   "source": [
    "# K-means\n",
    "Phân cụm là một bài toán học không được giám sát, thường được sử dụng khi bạn không có nhãn dữ liệu. \n",
    "\n",
    "Phân cụm K-Means là một trong những thuật toán phân cụm phổ biến. Mục tiêu của thuật toán này là tìm các nhóm (các cụm) trong các dữ liệu nhất định. \n",
    "\n",
    "Xây dựng phân cụm KMeans được thực hiện theo ý tưởng sau:\n",
    "- Chọn ra k tâm ngẫu nhiên của các cụm.\n",
    "- Gán mỗi dữ liệu $x_i$ vào cụm có tâm gần nó nhất, bằng cách tính khoảng cách từ $x_i$ đến các tâm\n",
    "- Chọn lại tâm cụm bằng cách tính lại tâm nhờ các điểm thuộc cụm\n",
    "- Lặp lại các bước trên cho đến khi không có sự thay đổi về các điểm trong cụm.\n",
    "\n",
    "Trong bài này chúng ta sẽ thực hiện cài đặt thuật toán phân cụm K-means từ đầu.\n",
    "\n",
    "![title](https://i.imgur.com/k4XcapI.gif)"
   ]
  },
  {
   "cell_type": "code",
   "execution_count": 13,
   "metadata": {},
   "outputs": [
    {
     "name": "stdout",
     "output_type": "stream",
     "text": [
      "The autoreload extension is already loaded. To reload it, use:\n",
      "  %reload_ext autoreload\n"
     ]
    }
   ],
   "source": [
    "# Import một số thư viện cần thiết.\n",
    "import random\n",
    "import numpy as np\n",
    "from sklearn import datasets\n",
    "from sklearn.model_selection import train_test_split \n",
    "import matplotlib.pyplot as plt\n",
    "\n",
    "# Sử dụng một mẹo nhỏ để vẽ hình trên cùng một dòng thay vì mở cửa sổ mới\n",
    "%matplotlib inline\n",
    "plt.rcParams['figure.figsize'] = (10.0, 8.0) # đặt kích thước mặc định cho hình\n",
    "plt.rcParams['image.interpolation'] = 'nearest'\n",
    "plt.rcParams['image.cmap'] = 'gray'\n",
    "\n",
    "# Một mẹo nhỏ để notebook tự load lại các module bên ngoài;\n",
    "# xem thêm tại http://stackoverflow.com/questions/1907993/autoreload-of-modules-in-ipython\n",
    "%load_ext autoreload\n",
    "%autoreload 2"
   ]
  },
  {
   "cell_type": "code",
   "execution_count": 14,
   "metadata": {},
   "outputs": [
    {
     "name": "stdout",
     "output_type": "stream",
     "text": [
      "('Training data shape: ', (120, 4))\n",
      "('Training labels shape: ', (120,))\n",
      "('Test data shape: ', (30, 4))\n",
      "('Test labels shape: ', (30,))\n"
     ]
    }
   ],
   "source": [
    "# Tải dữ liệu hoa cẩm chướng từ Scikit-learn.\n",
    "iris = datasets.load_iris()\n",
    "X_train, X_test, y_train, y_test = train_test_split(iris.data, \\\n",
    "                                                    iris.target, test_size=0.2)\n",
    "\n",
    "# In ra kích thước dữ liệu huấn luyện và dữ liệu kiểm tra như một \n",
    "# phép thử đơn giản.\n",
    "print('Training data shape: ', X_train.shape)\n",
    "print('Training labels shape: ', y_train.shape)\n",
    "print('Test data shape: ', X_test.shape)\n",
    "print('Test labels shape: ', y_test.shape)\n"
   ]
  },
  {
   "cell_type": "markdown",
   "metadata": {},
   "source": [
    "Đầu tiên, chúng ta cần cài đặt hàm huấn luyện mô hình K-means. Trong phần này, K-means thực hiện việc học cách phân cụm dữ liệu từ dữ liệu huấn luyện.\n",
    "\n",
    "Như đã nêu ở trên, việc học cách phân cụm được thực hiện theo 4 bước:\n",
    "- Chọn ra k tâm ngẫu nhiên của các cụm.\n",
    "- Gán mỗi dữ liệu $x_i$ vào cụm có tâm gần nó nhất, bằng cách tính khoảng cách từ $x_i$ đến các tâm\n",
    "- Chọn lại tâm cụm bằng cách tính lại tâm nhờ các điểm thuộc cụm\n",
    "- Lặp lại các bước trên cho đến khi không có sự thay đổi về các điểm trong cụm.\n",
    "\n",
    "** Bài tập: ** Mở tệp `k_means.py` và cài đặt hàm `train()`. Trong phần này, để tiện tính toán, ta cài đặt đồng thời các hàm `compute_distances`.\n",
    "\n",
    "*Gợi ý: Tham khảo K-Nearest Neighbor để cài đặt các hàm compute_distances.* "
   ]
  },
  {
   "cell_type": "code",
   "execution_count": 15,
   "metadata": {},
   "outputs": [
    {
     "name": "stdout",
     "output_type": "stream",
     "text": [
      "Initial centroids\n",
      "[array([5.1, 2.5, 3. , 1.1]), array([6.2, 2.8, 4.8, 1.8]), array([5.6, 3. , 4.5, 1.5])]\n",
      "New centroids \n",
      "[[5.05555556 3.32       1.74       0.35777778]\n",
      " [6.52363636 2.94909091 5.28181818 1.86363636]\n",
      " [5.7        2.75       4.19       1.3       ]]\n",
      "New centroids \n",
      "[[5.0025641  3.44358974 1.47179487 0.24615385]\n",
      " [6.58333333 2.98541667 5.38333333 1.925     ]\n",
      " [5.73333333 2.6969697  4.14545455 1.29090909]]\n",
      "New centroids \n",
      "[[5.0025641  3.44358974 1.47179487 0.24615385]\n",
      " [6.59777778 2.99555556 5.43333333 1.95555556]\n",
      " [5.78611111 2.70833333 4.18611111 1.30555556]]\n",
      "New centroids \n",
      "[[5.0025641  3.44358974 1.47179487 0.24615385]\n",
      " [6.63571429 3.01190476 5.47857143 1.96904762]\n",
      " [5.80769231 2.71282051 4.23333333 1.34102564]]\n",
      "New centroids \n",
      "[[5.0025641  3.44358974 1.47179487 0.24615385]\n",
      " [6.66410256 3.02307692 5.53076923 1.99487179]\n",
      " [5.84047619 2.72380952 4.27380952 1.36190476]]\n",
      "New centroids \n",
      "[[5.0025641  3.44358974 1.47179487 0.24615385]\n",
      " [6.74857143 3.05142857 5.58571429 2.01714286]\n",
      " [5.84782609 2.72826087 4.34130435 1.4       ]]\n",
      "New centroids \n",
      "[[5.0025641  3.44358974 1.47179487 0.24615385]\n",
      " [6.75       3.05       5.61176471 2.03235294]\n",
      " [5.86595745 2.73617021 4.34893617 1.40212766]]\n",
      "New centroids \n",
      "[[5.0025641  3.44358974 1.47179487 0.24615385]\n",
      " [6.7625     3.065625   5.653125   2.06875   ]\n",
      " [5.89387755 2.73877551 4.37346939 1.40408163]]\n",
      "New centroids \n",
      "[[5.0025641  3.44358974 1.47179487 0.24615385]\n",
      " [6.77741935 3.08387097 5.67419355 2.07419355]\n",
      " [5.902      2.734      4.386      1.414     ]]\n",
      "New centroids \n",
      "[[5.0025641  3.44358974 1.47179487 0.24615385]\n",
      " [6.77741935 3.08387097 5.67419355 2.07419355]\n",
      " [5.902      2.734      4.386      1.414     ]]\n"
     ]
    }
   ],
   "source": [
    "from k_means import KMeans\n",
    "\n",
    "# Khởi tạo bộ phân cụm KMeans. \n",
    "# Chọn số lượng các cụm cần phân ra, trong trường hợp này, ta chọn số cụm\n",
    "# bằng số lượng các loại hoa cẩm chướng\n",
    "cluster = KMeans(num_clusters=3)\n",
    "\n",
    "# Mở tệp k_means.py và cài đặt hàm huấn luyện train().\n",
    "cluster.train(X_train)"
   ]
  },
  {
   "cell_type": "code",
   "execution_count": 16,
   "metadata": {},
   "outputs": [
    {
     "name": "stdout",
     "output_type": "stream",
     "text": [
      "Got 14 / 30 correct => accuracy: 0.466667\n",
      "[2 0 1 1 0 2 2 1 1 0 0 0 0 1 1 0 0 0 1 2 0 2 2 0 1 2 1 2 2 2]\n",
      "[1 0 2 1 0 1 1 2 2 0 0 0 0 2 2 0 0 0 2 1 0 1 2 0 2 2 2 1 1 1]\n"
     ]
    }
   ],
   "source": [
    "# Bây giờ, cài đặt hàm predict_labels và chạy code dưới đây:\n",
    "# Chúng ta dùng k = 3 (Số lượng cụm ứng với các nhãn cần phân biệt).\n",
    "num_test = X_test.shape[0]\n",
    "dists = cluster.compute_distances_no_loops(X_test)\n",
    "y_test_pred = cluster.predict_labels(dists)\n",
    "\n",
    "# Tính ra in ra tỉ lệ những ví dụ dự đoán đúng\n",
    "num_correct = np.sum(y_test_pred == y_test)\n",
    "accuracy = float(num_correct) / num_test\n",
    "print('Got %d / %d correct => accuracy: %f' % (num_correct, num_test, accuracy))\n",
    "print y_test_pred\n",
    "print y_test"
   ]
  },
  {
   "cell_type": "markdown",
   "metadata": {
    "collapsed": true
   },
   "source": [
    "** Bài tập: ** Điều chỉnh code để sau khi phân cụm, nhãn phân cụm trả về là nhãn tương ứng với loại hoa cẩm chướng của cụm đó."
   ]
  },
  {
   "cell_type": "code",
   "execution_count": 17,
   "metadata": {},
   "outputs": [],
   "source": [
    "import itertools"
   ]
  },
  {
   "cell_type": "code",
   "execution_count": 18,
   "metadata": {},
   "outputs": [
    {
     "name": "stdout",
     "output_type": "stream",
     "text": [
      "Got 14 / 30 correct => accuracy: 0.466667\n",
      "Got 27 / 30 correct => accuracy: 0.900000\n",
      "Got 8 / 30 correct => accuracy: 0.266667\n",
      "Got 8 / 30 correct => accuracy: 0.266667\n",
      "Got 8 / 30 correct => accuracy: 0.266667\n",
      "Got 2 / 30 correct => accuracy: 0.066667\n"
     ]
    }
   ],
   "source": [
    "per = list(itertools.permutations([0, 1, 2]))\n",
    "def acc(y_, y):\n",
    "    for i in per:\n",
    "        i = np.array(i)\n",
    "        y_ = i[y_]\n",
    "        num_correct = np.sum(y_ == y)\n",
    "        accuracy = float(num_correct) / len(y)\n",
    "        print('Got %d / %d correct => accuracy: %f' % (num_correct, num_test, accuracy))\n",
    "acc(y_test_pred, y_test)"
   ]
  }
 ],
 "metadata": {
  "kernelspec": {
   "display_name": "Python 2",
   "language": "python",
   "name": "python2"
  },
  "language_info": {
   "codemirror_mode": {
    "name": "ipython",
    "version": 2
   },
   "file_extension": ".py",
   "mimetype": "text/x-python",
   "name": "python",
   "nbconvert_exporter": "python",
   "pygments_lexer": "ipython2",
   "version": "2.7.13"
  }
 },
 "nbformat": 4,
 "nbformat_minor": 2
}
