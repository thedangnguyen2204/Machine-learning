{
 "cells": [
  {
   "cell_type": "markdown",
   "metadata": {},
   "source": [
    "# Hồi quy tuyến tính\n",
    "*Hoàn thành toàn bộ phần bài tập trong notebook này, bao gồm toàn bộ kết quả đầu ra và code hỗ trợ.*\n",
    "\n",
    "***\"Không có một sự kiện nào trên đời là ngẫu nhiên, những thứ đang cho là ngẫu nhiên chỉ là những sự kiện ta chưa tìm ra được mô hình để biểu diễn quy luật của chúng\".***\n",
    "\n",
    "Xây dựng mô hình **Hồi quy tuyến tính** bao gồm hai phần:\n",
    "- Trong quá trình huấn luyện, bộ phân lớp lấy dữ liệu huấn luyện và và học các tham số mô hình.\n",
    "- Trong quá trình kiếm tra, mô hình phân lớp từng đối tượng bằng cách nhân giá trị của mẫu với các tham số mô hình để tìm ra giá trị của nhãn.\n",
    "- Giá trị của tham số được kiểm định chéo.\n",
    "Trong bài tập này, bạn sẽ cài đặt những bước trên và hiểu được qui trình Xây dựng một mô hình đơn giản với Học tham số, kiểm định chéo, và hiểu được cách viết code hiệu quả với vectorize.\n",
    "\n",
    "Bài toán dự đoán giá nhà Boston được sử dụng trong bài tập này."
   ]
  },
  {
   "cell_type": "code",
   "execution_count": 2,
   "metadata": {},
   "outputs": [],
   "source": [
    "# Import một số thư viện cần thiết.\n",
    "import random\n",
    "import numpy as np\n",
    "from sklearn import datasets\n",
    "from sklearn.model_selection import train_test_split \n",
    "import matplotlib.pyplot as plt\n",
    "\n",
    "# Sử dụng một mẹo nhỏ để vẽ hình trên cùng một dòng thay vì mở cửa sổ mới\n",
    "%matplotlib inline\n",
    "plt.rcParams['figure.figsize'] = (10.0, 8.0) # đặt kích thước mặc định cho hình\n",
    "plt.rcParams['image.interpolation'] = 'nearest'\n",
    "plt.rcParams['image.cmap'] = 'gray'\n",
    "\n",
    "# Một mẹo nhỏ để notebook tự load lại các module bên ngoài;\n",
    "# xem thêm tại http://stackoverflow.com/questions/1907993/autoreload-of-modules-in-ipython\n",
    "%load_ext autoreload\n",
    "%autoreload 2"
   ]
  },
  {
   "cell_type": "code",
   "execution_count": 3,
   "metadata": {},
   "outputs": [
    {
     "name": "stdout",
     "output_type": "stream",
     "text": [
      "('Training data shape: ', (404, 13))\n",
      "('Training labels shape: ', (404,))\n",
      "('Test data shape: ', (102, 13))\n",
      "('Test labels shape: ', (102,))\n"
     ]
    }
   ],
   "source": [
    "# Tải dữ liệu Giá nhà Boston từ Scikit-learn.\n",
    "boston = datasets.load_boston()\n",
    "X_train, X_test, y_train, y_test = train_test_split(boston.data, \\\n",
    "                                                    boston.target, test_size=0.2)\n",
    "\n",
    "# As a sanity check, we print out the size of the training and test data.\n",
    "print('Training data shape: ', X_train.shape)\n",
    "print('Training labels shape: ', y_train.shape)\n",
    "print('Test data shape: ', X_test.shape)\n",
    "print('Test labels shape: ', y_test.shape)"
   ]
  },
  {
   "cell_type": "markdown",
   "metadata": {},
   "source": [
    "## Load dữ liệu\n",
    "Hồi qui tuyến tính đơn giản là một cách tiếp cận để dự đoán phản ứng (giá trị đầu ra) khi dữ liệu có một đặc trưng duy nhất. Khi giả sử hai biến $x$ và $y$ liên hệ tuyến  tính thì mục tiêu của mô hình là cố tìm ra đường tuyến tính tốt nhất để dự đoán phản ứng ($y$). \n",
    "\n",
    "Đường đó được gọi là đường hồi quy.\n",
    "\n",
    "Công thức cho đường hồi quy được biểu diễn như sau:\n",
    "$$ \\hat{Y} = h(X) = XW$$\n",
    "Trong đó: \n",
    "\n",
    "- $X$ là ma trận có kích thước $N \\times D$ với $X_{ij}$ là giá trị của đặc trưng thứ $j$ của mẫu $i$.\n",
    "- $W$ là ma trận tham số có kích thước $D \\times 1$\n",
    "- $Y$ là giá trị phản ứng của $N$ mẫu.\n",
    "\n"
   ]
  },
  {
   "cell_type": "code",
   "execution_count": 4,
   "metadata": {},
   "outputs": [
    {
     "data": {
      "image/png": "[encoded data removed]",
      "text/plain": [
       "<matplotlib.figure.Figure at 0x497abb0>"
      ]
     },
     "metadata": {},
     "output_type": "display_data"
    }
   ],
   "source": [
    "# Biểu diễn một số ví dụ trong tập huấn luyện sử dụng một đặc trưng duy nhất.\n",
    "# LSTAT - % lower status of the population\n",
    "plt.scatter(X_train[:,12], y_train)\n",
    "plt.xlabel(\"Crime rate\")\n",
    "plt.ylabel(\"House's price\")\n",
    "plt.show()"
   ]
  },
  {
   "cell_type": "markdown",
   "metadata": {},
   "source": [
    "## Huấn luyện mô hình\n",
    "Tất cả code cho phần bài tập này được lưu trong tệp **models/linear_regression.py** và **models/linear_loss.py**.\n",
    "### Cập nhật tham số\n",
    "Quá trình huấn luyện mô hình thực chất là từ dữ liệu để học ra tham số mô hình phù hợp nhất với mô hình sinh dữ liệu. Trong mô hình hồi quy tuyến tính, ta cần học tham số $W$.\n",
    "\n",
    "Khi khởi tạo mô hình, ta giả sử tham số được khởi tạo ngẫu nhiên. Sử dụng tham số $W$ đó, ta ước lượng được giá trị $Y$:\n",
    "$$ \\hat{y} = h(X) = WX $$\n",
    "\n",
    "Tổng sai số, độ lệch của giá trị dự đoán so với giá trị thực tế gọi là hàm giá trị (Cost function):\n",
    "$$ J(w) = \\frac{1}{2N}\\sum_{i=1}^{N} (\\hat{y}_i - y_i)^2 = \\frac{1}{2N}\\sum_{i=1}^{N} (w_ix_i - y_i)^2$$\n",
    "\n",
    "\n",
    "Chúng ta sử thuật toán **xuống đồi (Gradient descent)** để tối ưu tham số $W$. (Xem khóa [Machine Learning](https://www.coursera.org/learn/machine-learning/))\n",
    "\n",
    "Đột tụt dốc của tham số $W$ được cập nhật theo công thức:\n",
    "$$ dw_i = \\frac{\\partial}{\\partial w_i}J(w)$$\n",
    "\n",
    "Đầu tiên, mở file ```models/linear_loss.py``` và cài đặt hàm ```linear_loss_naive```, sử dụng vòng lặp để tính hàm giá trị (Cost function)."
   ]
  },
  {
   "cell_type": "code",
   "execution_count": 16,
   "metadata": {},
   "outputs": [
    {
     "name": "stdout",
     "output_type": "stream",
     "text": [
      "loss: 313.195409\n"
     ]
    }
   ],
   "source": [
    "from models.linear_loss import linear_loss_naive\n",
    "import time\n",
    "# sinh ngẫu nhiên các trọng số (W) với các giá trị nhỏ\n",
    "W = np.random.randn(13, ) * 0.0001 \n",
    "\n",
    "loss, grad = linear_loss_naive(W, X_test, y_test, 0.00001)\n",
    "print('loss: %f' % (loss, ))"
   ]
  },
  {
   "cell_type": "markdown",
   "metadata": {},
   "source": [
    "Lúc này, các giá trị gradient được trả về đều bằng 0. Đạo hàm và tính gradient theo công thức được cho ở trên trong cùng hàm ```linear_loss_naive```. Bạn sẽ thấy một số thứ hữu ích trong phần cài đặt trước đó.\n",
    "\n",
    "Để đảm bảo là bạn đã cài đặt đúng, chúng ta sẽ sử dụng hàm ```grad_check_sparse``` (đã được cài đặt sẵn) để kiểm tra."
   ]
  },
  {
   "cell_type": "code",
   "execution_count": 17,
   "metadata": {
    "scrolled": true
   },
   "outputs": [
    {
     "name": "stdout",
     "output_type": "stream",
     "text": [
      "numerical: -8262.460455 analytic: -8262.460455, relative error: 2.824538e-13\n",
      "numerical: -358.311563 analytic: -358.311563, relative error: 3.603801e-12\n",
      "numerical: -152.511747 analytic: -152.511747, relative error: 9.375740e-12\n",
      "numerical: -235.117079 analytic: -235.117079, relative error: 4.069715e-12\n",
      "numerical: -235.117079 analytic: -235.117079, relative error: 4.069715e-12\n",
      "numerical: -8262.460455 analytic: -8262.460455, relative error: 2.824538e-13\n",
      "numerical: -235.117079 analytic: -235.117079, relative error: 4.069715e-12\n",
      "numerical: -12.448385 analytic: -12.448385, relative error: 9.776867e-11\n",
      "numerical: -8262.460455 analytic: -8262.460455, relative error: 2.824538e-13\n",
      "numerical: -88.854393 analytic: -88.854393, relative error: 3.320034e-11\n",
      "numerical: -2.314688 analytic: -2.314688, relative error: 3.140684e-10\n",
      "numerical: -358.311563 analytic: -358.311563, relative error: 3.603801e-12\n",
      "numerical: -88.854393 analytic: -88.854393, relative error: 3.320034e-11\n",
      "numerical: -1503.216854 analytic: -1503.216854, relative error: 8.954478e-14\n",
      "numerical: -358.311563 analytic: -358.311563, relative error: 3.603801e-12\n",
      "numerical: -235.117079 analytic: -235.117079, relative error: 4.069715e-12\n",
      "numerical: -8262.460455 analytic: -8262.460455, relative error: 2.824538e-13\n",
      "numerical: -12.448385 analytic: -12.448385, relative error: 9.776867e-11\n",
      "numerical: -152.511747 analytic: -152.511747, relative error: 9.375740e-12\n",
      "numerical: -8424.130289 analytic: -8424.130289, relative error: 3.433225e-14\n"
     ]
    }
   ],
   "source": [
    "# Bởi vì bạn đã cài đặt hàm gradient, tính toán gradient với code dưới đây và\n",
    "# kiểm tra với hàm grad_check_sparse(...) đã cho.\n",
    "\n",
    "# Tính toán loss và grad với W.\n",
    "loss, grad = linear_loss_naive(W, X_test, y_test, 0.0)\n",
    "\n",
    "# Tính toán gradient theo một số chiều ngẫu nhiên và so sánh chúng với kết quả\n",
    "# của bạn. Giá trị phải gần như chính xác theo tất cả các chiều.\n",
    "from models.gradient_check import grad_check_sparse\n",
    "f = lambda w: linear_loss_naive(w, X_test, y_test, 0.0)[0]\n",
    "grad_numerical = grad_check_sparse(f, W, grad)\n",
    "\n",
    "# thực hiện kiểm tra khi có sử dụng regularization\n",
    "# đừng quên cài đặt gradient với regularization nhé.\n",
    "loss, grad = linear_loss_naive(W, X_test, y_test, 1e2)\n",
    "f = lambda w: linear_loss_naive(w, X_test, y_test, 1e2)[0]\n",
    "grad_numerical = grad_check_sparse(f, W, grad)\n",
    "\n",
    "# Kết quả relative error trong khoảng 1e-12"
   ]
  },
  {
   "cell_type": "code",
   "execution_count": 7,
   "metadata": {},
   "outputs": [
    {
     "name": "stdout",
     "output_type": "stream",
     "text": [
      "Naive loss: 3.159529e+02 computed in 0.000000s\n",
      "Vectorized loss: 3.159529e+02 computed in 0.000000s\n",
      "difference: 0.000000\n"
     ]
    }
   ],
   "source": [
    "# Kế tiếp, cài đặt linear_loss_vectorized; hiện tại chỉ tính toán hàm giá trị;\n",
    "# gradient sẽ cài đặt sau.\n",
    "tic = time.time()\n",
    "loss_naive, grad_naive = linear_loss_naive(W, X_test, y_test, 0.00001)\n",
    "toc = time.time()\n",
    "print('Naive loss: %e computed in %fs' % (loss_naive, toc - tic))\n",
    "\n",
    "# Vectorized\n",
    "from models.linear_loss import linear_loss_vectorized\n",
    "tic = time.time()\n",
    "loss_vectorized, _ = linear_loss_vectorized(W, X_test, y_test, 0.00001)\n",
    "toc = time.time()\n",
    "print('Vectorized loss: %e computed in %fs' % (loss_vectorized, toc - tic))\n",
    "\n",
    "# Hàm giá trị khi vectorized nên có cùng giá trị với giá trị được tính bằng hàm\n",
    "# linear_loss_naive() nhưng tính toán nhanh hơn\n",
    "print('difference: %f' % (loss_naive - loss_vectorized))"
   ]
  },
  {
   "cell_type": "code",
   "execution_count": 8,
   "metadata": {},
   "outputs": [
    {
     "name": "stdout",
     "output_type": "stream",
     "text": [
      "Naive loss and gradient: computed in 0.000000s\n",
      "[-5.54182474e+01 -3.59913918e+02 -2.18531237e+02 -2.32496992e+00\n",
      " -1.25141657e+01 -1.53262310e+02 -1.51125731e+03 -8.92968670e+01\n",
      " -1.70645054e+02 -8.31019418e+03 -4.10006879e+02 -8.46653738e+03\n",
      " -2.36540572e+02]\n",
      "Vectorized loss and gradient: computed in 0.000000s\n",
      "[-5.54182474e+01 -3.59913918e+02 -2.18531237e+02 -2.32496992e+00\n",
      " -1.25141657e+01 -1.53262310e+02 -1.51125731e+03 -8.92968670e+01\n",
      " -1.70645054e+02 -8.31019418e+03 -4.10006879e+02 -8.46653738e+03\n",
      " -2.36540572e+02]\n",
      "difference: 0.0\n"
     ]
    }
   ],
   "source": [
    "# Hoàn thiện phần cài đặt của linear_loss_vectorized, và tính toán gradient theo\n",
    "# cách vectorized.\n",
    "\n",
    "# Hai hàm tính loss và gradient nên cho kết quả giống nhau nhưng bản vectorized \n",
    "# tính toán nhanh hơn.\n",
    "tic = time.time()\n",
    "_, grad_naive = linear_loss_naive(W, X_test, y_test, 0.00001)\n",
    "toc = time.time()\n",
    "print('Naive loss and gradient: computed in %fs' % (toc - tic))\n",
    "print grad_naive\n",
    "\n",
    "tic = time.time()\n",
    "_, grad_vectorized = linear_loss_vectorized(W, X_test, y_test, 0.00001)\n",
    "toc = time.time()\n",
    "print('Vectorized loss and gradient: computed in %fs' % (toc - tic))\n",
    "print grad_vectorized\n",
    "\n",
    "# So sánh gradient\n",
    "difference = np.linalg.norm(grad_naive - grad_vectorized)\n",
    "print('difference: {}'.format(difference))"
   ]
  },
  {
   "cell_type": "markdown",
   "metadata": {
    "collapsed": true
   },
   "source": [
    "### Huấn luyện với hàm cập nhật\n",
    "Sử dụng các hàm ```loss``` đã cài đặt ở trên để cài đặt hàm ```train``` trong tệp **linear_regression.py**.\n",
    "\n",
    "Tham số W được cập nhật từng thành phần theo công thức:\n",
    "$$ w_i =  w_i -\\alpha\\frac{\\partial}{\\partial w_i}J(w)$$"
   ]
  },
  {
   "cell_type": "code",
   "execution_count": 9,
   "metadata": {},
   "outputs": [
    {
     "name": "stdout",
     "output_type": "stream",
     "text": [
      "iteration 0 / 200000: loss 310.669028\n",
      "iteration 10000 / 200000: loss 24.063779\n",
      "iteration 20000 / 200000: loss 22.238750\n",
      "iteration 30000 / 200000: loss 21.370259\n",
      "iteration 40000 / 200000: loss 20.749140\n",
      "iteration 50000 / 200000: loss 20.233645\n",
      "iteration 60000 / 200000: loss 19.775682\n",
      "iteration 70000 / 200000: loss 19.356095\n",
      "iteration 80000 / 200000: loss 18.966391\n",
      "iteration 90000 / 200000: loss 18.602260\n",
      "iteration 100000 / 200000: loss 18.261111\n",
      "iteration 110000 / 200000: loss 17.941108\n",
      "iteration 120000 / 200000: loss 17.640772\n",
      "iteration 130000 / 200000: loss 17.358820\n",
      "iteration 140000 / 200000: loss 17.094090\n",
      "iteration 150000 / 200000: loss 16.845513\n",
      "iteration 160000 / 200000: loss 16.612091\n",
      "iteration 170000 / 200000: loss 16.392892\n",
      "iteration 180000 / 200000: loss 16.187044\n",
      "iteration 190000 / 200000: loss 15.993728\n",
      "That took 36.499000s\n"
     ]
    }
   ],
   "source": [
    "# Ở trong tệp linear_regression.py, cài đặt hàm LinearRegression.train() và chạy\n",
    "# hàm đó với code sau\n",
    "from models.linear_regression import LinearRegression\n",
    "clf = LinearRegression()\n",
    "tic = time.time()\n",
    "\n",
    "loss_hist = clf.train(X_train, y_train, learning_rate=5e-6, reg=1e-4,\n",
    "                      num_iters=200000, verbose=True)\n",
    "toc = time.time()\n",
    "print('That took %fs' % (toc - tic))"
   ]
  },
  {
   "cell_type": "code",
   "execution_count": 10,
   "metadata": {},
   "outputs": [
    {
     "data": {
      "image/png": "[encoded data removed]",
      "text/plain": [
       "<matplotlib.figure.Figure at 0xd83bcd0>"
      ]
     },
     "metadata": {},
     "output_type": "display_data"
    }
   ],
   "source": [
    "# Một chiến thuật debug hiệu quả được sử dụng đó là vẽ ra lịch sử mất mát (loss \n",
    "# history) như là một hàm với số lần lặp.\n",
    "plt.plot(loss_hist)\n",
    "plt.xlabel('Iteration number')\n",
    "plt.ylabel('Loss value')\n",
    "plt.show()"
   ]
  },
  {
   "cell_type": "code",
   "execution_count": 11,
   "metadata": {},
   "outputs": [
    {
     "name": "stdout",
     "output_type": "stream",
     "text": [
      "training accuracy: 0.000000\n",
      "[46.7 10.4 25.  15.3 21.5 19.3 20.  11.9 20.4 23.4 23.9 22.6 22.  15.2\n",
      " 23.8 31.  23.1 17.1 22.5 20.5 28.7 24.5 22.2 14.9 18.5 14.1 50.  24.1\n",
      " 18.9 15.6 17.  45.4 23.4 23.6 30.3 28.7 23.  22.  15.6 19.1 31.6 19.9\n",
      " 19.6 15.  43.8 19.6 23.9 19.9 19.8 20.8 20.2 17.2 23.1 27.5 36.2 25.3\n",
      "  6.3  8.4 37.3 16.3 21.1 44.  29.6 13.5 22.3  8.3 33.8 32.5 22.7 13.3\n",
      " 17.2 15.4 23.8 30.1  5.  50.  10.9 39.8  7.4 35.2  7.  22.7 13.  24.7\n",
      " 28.1 15.1 13.9 29.9 21.7 36.4 29.4 18.4 22.4 33.2 24.1 31.2 20.7 23.3\n",
      " 11.7 27.9 21.  50. ]\n",
      "[28.82506501  3.89596559 27.79692584 19.40297452 22.00010633 22.90996731\n",
      " 15.14889217 10.03670968 22.31965651 20.7913576  28.95924994 23.38643945\n",
      " 21.56087179 16.24892617 26.81225053 29.55410236 29.70234992 19.42120488\n",
      " 19.82051729 20.70426365 26.77058777 24.01547005 19.91724203 18.54273522\n",
      " 24.47586415 13.42647613 36.6865497  21.56525007 23.99298199 14.39048398\n",
      " 20.3177396  33.83218709 22.26481784 26.45037293 28.3795898  28.82620617\n",
      " 26.29843218 25.82888899 16.81085889 21.87367731 29.90633437 21.28456647\n",
      " 24.35084519 18.63803793 30.42844355 24.27917308 31.47677003 23.29217728\n",
      " 19.33271265 18.7218649  26.68735415 11.40553348 22.78188487 16.20870757\n",
      " 24.57806325 21.91210637  8.95423302  0.38348058 35.16932599 10.43188904\n",
      " 20.86511981 36.29402354 22.02562527 15.23004342 27.79679363  5.85332108\n",
      " 29.51611301 30.56497842 22.76683199 20.46705627 17.52038729 20.94238277\n",
      " 17.85150435 31.65778416  9.41983232 32.69727196 10.25344793 31.69760306\n",
      "  5.90875324 31.40802865 -7.87855828 24.78915791 18.64657787 29.97458437\n",
      " 22.39441978 20.37373529 16.90749565 28.30487517 17.09231158 30.39543753\n",
      " 25.65820517 24.48241189 25.8998154  31.73389746 27.25465171 29.88474065\n",
      " 22.45460479 27.72836486  8.96237389 32.66679634 24.92643754 35.92972868]\n",
      "validation accuracy: 0.000000\n"
     ]
    }
   ],
   "source": [
    "# Cài đặt hàm LinearRegression.predict đánh giá hiệu năng mô hình trên cả tập\n",
    "# huấn luyện và tệp kiểm tra.\n",
    "y_train_pred = clf.predict(X_train)\n",
    "\n",
    "print('training accuracy: %f' % (np.mean(y_train == y_train_pred), ))\n",
    "y_test_pred = clf.predict(X_test)\n",
    "print y_test\n",
    "print y_test_pred\n",
    "print('validation accuracy: %f' % (np.mean(y_test == y_test_pred), ))"
   ]
  },
  {
   "cell_type": "code",
   "execution_count": 12,
   "metadata": {},
   "outputs": [
    {
     "name": "stdout",
     "output_type": "stream",
     "text": [
      "best validation accuracy achieved during cross-validation: -1.000000\n"
     ]
    }
   ],
   "source": [
    "# Sử dụng tập kiểm tra để điều chỉnh các siêu tham số (độ lớn của reg và tỉ\n",
    "# lệ học. Bạn nên thực nghiệm với nhiều khoảng giá trị của 2 siêu tham số này\n",
    "# Nếu bạn đủ cẩn thận, bạn có thể đạt độ chính xác ... trên tập kiểm tra.\n",
    "learning_rates = [1e-7, 5e-5]\n",
    "regularization_strengths = [5e4, 1e5]\n",
    "\n",
    "# kết quả là một từ điển ánh xạ từ tuple có dạng (reg, lr) sang tuple có dạng\n",
    "# (train_acc, test_acc). Độ chính xác chỉ đơn giản là tỉ lệ mẫu dự đoán chính\n",
    "# xác trên toàn tập dữ liệu.\n",
    "results = {}\n",
    "best_test = -1   # Hiệu năng tốt nhất mà chúng ta sẽ đạt được.\n",
    "best_linear = None # Mô hình LinearRegression có hiệu năng tốt nhất.\n",
    "\n",
    "################################################################################\n",
    "# TODO:                                                                        #\n",
    "# Viết code chọn các siêu tham số tốt nhất bằng cách điều chỉnh trên tập kiểm  #\n",
    "# tra. Với mỗi tổ hợp siêu tham số, huấn luyện một mô hình LinearRegression    #\n",
    "# trên tập huấn luyện, tính toán độ chính xác trên tập huấn luyện và tập kiểm  #\n",
    "# tra, và lưu những con số này vào từ điển kết quả. Thêm vào đó, lưu hiệu năng #\n",
    "# tốt nhất trên tập kiểm tra vào best_val và mô hình LinearRegression tương    #\n",
    "# ứng vào best_svm.                                                            #  \n",
    "#                                                                              #\n",
    "# Gợi ý: Bạn nên sử dụng số vòng lặp (num_iters) nhỏ khi xây dựng code kiểm    #\n",
    "# tra để mô hình không mất quá nhiều thời gian để huấn luyện. Khi đã chắc chắn,#\n",
    "# bạn nên trả về kết quả với số vòng lặp lớn                                   #\n",
    "################################################################################\n",
    "pass\n",
    "################################################################################\n",
    "#                              KẾT THÚC                                        #\n",
    "################################################################################\n",
    "    \n",
    "# In kết quả\n",
    "for lr, reg in sorted(results):\n",
    "    train_accuracy, test_accuracy = results[(lr, reg)]\n",
    "    print('lr %e reg %e train accuracy: %f val accuracy: %f' % (\n",
    "                lr, reg, train_accuracy, test_accuracy))\n",
    "    \n",
    "print('best validation accuracy achieved during cross-validation: %f' % best_test)"
   ]
  },
  {
   "cell_type": "code",
   "execution_count": 13,
   "metadata": {},
   "outputs": [
    {
     "data": {
      "image/png": "[encoded data removed]",
      "text/plain": [
       "<matplotlib.figure.Figure at 0xe0b1710>"
      ]
     },
     "metadata": {},
     "output_type": "display_data"
    }
   ],
   "source": [
    "# Visualize kết quả kiểm thử chéo\n",
    "import math\n",
    "x_scatter = [math.log10(x[0]) for x in results]\n",
    "y_scatter = [math.log10(x[1]) for x in results]\n",
    "\n",
    "# plot training accuracy\n",
    "marker_size = 100\n",
    "colors = [results[x][0] for x in results]\n",
    "plt.subplot(2, 1, 1)\n",
    "plt.scatter(x_scatter, y_scatter, marker_size, c=colors)\n",
    "plt.colorbar()\n",
    "plt.xlabel('log learning rate')\n",
    "plt.ylabel('log regularization strength')\n",
    "plt.title('Boston training accuracy')\n",
    "\n",
    "# vẽ hiệu năng trên tập kiểm tra\n",
    "colors = [results[x][1] for x in results] # kích thước mặc định của marker là 20\n",
    "plt.subplot(2, 1, 2)\n",
    "plt.scatter(x_scatter, y_scatter, marker_size, c=colors)\n",
    "plt.colorbar()\n",
    "plt.xlabel('log learning rate')\n",
    "plt.ylabel('log regularization strength')\n",
    "plt.title('Boston test accuracy')\n",
    "plt.show()"
   ]
  },
  {
   "cell_type": "code",
   "execution_count": null,
   "metadata": {},
   "outputs": [],
   "source": []
  }
 ],
 "metadata": {
  "kernelspec": {
   "display_name": "Python 2",
   "language": "python",
   "name": "python2"
  },
  "language_info": {
   "codemirror_mode": {
    "name": "ipython",
    "version": 2
   },
   "file_extension": ".py",
   "mimetype": "text/x-python",
   "name": "python",
   "nbconvert_exporter": "python",
   "pygments_lexer": "ipython2",
   "version": "2.7.13"
  }
 },
 "nbformat": 4,
 "nbformat_minor": 2
}
